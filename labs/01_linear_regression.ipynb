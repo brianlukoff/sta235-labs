{
 "nbformat": 4,
 "nbformat_minor": 0,
 "metadata": {
  "colab": {
   "provenance": []
  },
  "kernelspec": {
   "name": "ir",
   "display_name": "R"
  },
  "language_info": {
   "name": "R"
  }
 },
 "cells": [
  {
   "cell_type": "code",
   "execution_count": null,
   "metadata": {
    "id": "aV2N542wf4jQ",
    "pycharm": {
     "name": "#%%\n"
    }
   },
   "outputs": [],
   "source": [
    "# We will use tidverse for a lot of our data manipulations. It's okay to have warnings\n",
    "library(tidyverse)\n",
    "source(\"https://github.com/brianlukoff/sta235-labs/raw/main/src/l1h.r\")"
   ]
  },
  {
   "cell_type": "markdown",
   "source": [
    "# Data Exploration"
   ],
   "metadata": {
    "id": "uO5LljuNmDOo",
    "pycharm": {
     "name": "#%% md\n"
    }
   }
  },
  {
   "cell_type": "code",
   "source": [
    "# read_csv\n",
    "profs <- read_csv('https://emyucel.com/sta235/profs.csv')"
   ],
   "metadata": {
    "id": "m0wGWVSegRno",
    "pycharm": {
     "name": "#%%\n"
    }
   },
   "execution_count": null,
   "outputs": []
  },
  {
   "cell_type": "code",
   "source": [
    "# The head command gives the first few rows of a dataframe\n",
    "profs %>% head()"
   ],
   "metadata": {
    "id": "fTfPyGuvgVlq",
    "pycharm": {
     "name": "#%%\n"
    }
   },
   "execution_count": null,
   "outputs": []
  },
  {
   "cell_type": "markdown",
   "source": [
    "Let's explore some of our variables. Here's a histogram of the `eval` variable."
   ],
   "metadata": {
    "id": "FmyQq3oZg08q",
    "pycharm": {
     "name": "#%% md\n"
    }
   }
  },
  {
   "cell_type": "code",
   "source": [
    "ggplot(data=profs) +\n",
    "  geom_histogram(aes(x=eval), bins=10, color='white')"
   ],
   "metadata": {
    "id": "1qJ1o88QgZ3v",
    "pycharm": {
     "name": "#%%\n"
    }
   },
   "execution_count": null,
   "outputs": []
  },
  {
   "cell_type": "markdown",
   "source": [
    "Now let's try it for attractiveness. Fill in the blank with the appropriate variable name."
   ],
   "metadata": {
    "id": "MR9X9YLJha2s",
    "pycharm": {
     "name": "#%% md\n"
    }
   }
  },
  {
   "cell_type": "code",
   "source": [
    "ggplot(data=profs) +\n",
    "  geom_histogram(aes(x=____________), bins=10, color='white')"
   ],
   "metadata": {
    "id": "lAw3GAfXhDV_",
    "pycharm": {
     "name": "#%%\n"
    }
   },
   "execution_count": null,
   "outputs": []
  },
  {
   "cell_type": "markdown",
   "source": [
    "Is there a relationship between attractiveness and evaluation? Let's look at a scatterplot. Fill in `x` and `y` with the variables you want to look at."
   ],
   "metadata": {
    "id": "QXNsiggyhxKB",
    "pycharm": {
     "name": "#%% md\n"
    }
   }
  },
  {
   "cell_type": "code",
   "source": [
    "ggplot(data=profs) +\n",
    "  geom_point(aes(x=____________, y=_____________))"
   ],
   "metadata": {
    "id": "6suhhwSwhvqu",
    "pycharm": {
     "name": "#%%\n"
    }
   },
   "execution_count": null,
   "outputs": []
  },
  {
   "cell_type": "markdown",
   "source": [
    "The plot indicates that there might be some association between the two. We can measure that association with the correlation coefficient. Recall that this measures the strength of a linear relationship between two variables. The `cor` function in R gives us this. The `$` tells R to look in the `profs` data for the variable name that follows."
   ],
   "metadata": {
    "id": "A9az5ET-iMUj",
    "pycharm": {
     "name": "#%% md\n"
    }
   }
  },
  {
   "cell_type": "code",
   "source": [
    "cor(profs$beauty, profs$eval)"
   ],
   "metadata": {
    "id": "TnMXUFN2iKv2",
    "pycharm": {
     "name": "#%%\n"
    }
   },
   "execution_count": null,
   "outputs": []
  },
  {
   "cell_type": "markdown",
   "source": [
    "# Linear Regression"
   ],
   "metadata": {
    "id": "_okl_e8JjXON",
    "pycharm": {
     "name": "#%% md\n"
    }
   }
  },
  {
   "cell_type": "markdown",
   "source": [
    "Linear regression is a technique that finds the line of best fit that maps `x` onto `y`.  In other words, we're modeling the true relationship\n",
    "\n",
    "$Y=\\beta_0 + \\beta_1 X + \\varepsilon$\n",
    "\n",
    "with our best estimates\n",
    "\n",
    "$\\hat Y = \\hat\\beta_0 + \\hat\\beta_1 X$ (the hats indicate estimates)\n",
    "\n",
    "If we want to use `R`, we can use the `lm` function."
   ],
   "metadata": {
    "id": "dPZ1izZljZjP",
    "pycharm": {
     "name": "#%% md\n"
    }
   }
  },
  {
   "cell_type": "code",
   "source": [
    "# Build a regression model\n",
    "lm1 <- lm(eval ~ beauty, data=profs) # this saves the model into an object called lm1\n",
    "summary(lm1) # this prints out the results of our regression"
   ],
   "metadata": {
    "id": "rSO89HgekRd8",
    "pycharm": {
     "name": "#%%\n"
    }
   },
   "execution_count": null,
   "outputs": []
  },
  {
   "cell_type": "markdown",
   "source": [
    "What does this fitted line look like when plotted on our data?"
   ],
   "metadata": {
    "id": "XJtphNS4lqJJ",
    "pycharm": {
     "name": "#%% md\n"
    }
   }
  },
  {
   "cell_type": "code",
   "source": [
    "ggplot(data=profs) +\n",
    "  geom_point(aes(x=beauty, y=eval))+\n",
    "  geom_smooth(aes(x=beauty, y=eval), method='lm', se=FALSE)"
   ],
   "metadata": {
    "id": "LQEkqS9BiryD",
    "pycharm": {
     "name": "#%%\n"
    }
   },
   "execution_count": null,
   "outputs": []
  },
  {
   "cell_type": "markdown",
   "source": [
    "The line goes through the points, sure, but there seems to be a lot of variation around it. How certain are we of our estimates of the parameters of this line?"
   ],
   "metadata": {
    "id": "Vo9uTFNX6Y5b",
    "pycharm": {
     "name": "#%% md\n"
    }
   }
  },
  {
   "cell_type": "markdown",
   "source": [
    "## Confidence Intervals for Coefficients\n",
    "\n",
    "We can create a confidence interval for model coefficients using a simple built-in function called `confint()`"
   ],
   "metadata": {
    "id": "2Aw49cJOqkTH",
    "pycharm": {
     "name": "#%% md\n"
    }
   }
  },
  {
   "cell_type": "code",
   "source": [
    "confint(lm1) %>% round(4)"
   ],
   "metadata": {
    "id": "qguaLmwAmbWt",
    "pycharm": {
     "name": "#%%\n"
    }
   },
   "execution_count": null,
   "outputs": []
  },
  {
   "cell_type": "markdown",
   "source": [
    "From the output above, what can we conclude about the coefficient for beauty?\n",
    "\n",
    "A. We are 95% confident the impact of each additional point of beauty on evaluation score is between 3.95 and 4.05.\n",
    "\n",
    "B. The impact of each additional point of beauty on evaluation score is between 3.95 and 4.05.\n",
    "\n",
    "C. We are 95% confident the impact of each additional point of beauty on evaluation score is between 0.07 and 0.20.\n",
    "\n",
    "D. The impact of each additional point of beauty on evaluation score is between 0.07 and 0.20."
   ],
   "metadata": {
    "id": "30KYm9T1iXkE",
    "pycharm": {
     "name": "#%% md\n"
    }
   }
  },
  {
   "cell_type": "code",
   "source": [
    "check_conf_1(enter \"A\" \"B\" \"C\" or \"D\")"
   ],
   "metadata": {
    "id": "IlRKmWCGjipo",
    "pycharm": {
     "name": "#%%\n"
    }
   },
   "execution_count": null,
   "outputs": []
  },
  {
   "cell_type": "markdown",
   "source": [
    "## Predictions\n",
    "Linear regressions are very easy to use to make predictions. We take the estimates from our summary table, and just write out an equation and plugin the value of interest for which we want a prediction. Our equation is"
   ],
   "metadata": {
    "id": "_nVFfpOarMf3",
    "pycharm": {
     "name": "#%% md\n"
    }
   }
  },
  {
   "cell_type": "code",
   "source": [
    "# Fill in the correct coefficients below to obtain a prediction for `eval` when `beauty` is 0.5\n",
    "______ + ______ * 0.5"
   ],
   "metadata": {
    "id": "76QUHWeYqvG8",
    "pycharm": {
     "name": "#%%\n"
    }
   },
   "execution_count": null,
   "outputs": []
  },
  {
   "cell_type": "code",
   "source": [
    "# put in your answer here\n",
    "check_pred_1(____)"
   ],
   "metadata": {
    "id": "NmE9GNqff3zW",
    "pycharm": {
     "name": "#%%\n"
    }
   },
   "execution_count": null,
   "outputs": []
  },
  {
   "cell_type": "markdown",
   "source": [
    "If we want a bit more precision (and less copy pasting) we can use R's built in `predict()` function. The `predict()` function takes a model object as the first argument, and values of $X$ to be used by that model as a second argument. Below, try predicting the evaluation score for a very attractive professor."
   ],
   "metadata": {
    "id": "QHP1nm-SuYJL",
    "pycharm": {
     "name": "#%% md\n"
    }
   }
  },
  {
   "cell_type": "code",
   "source": [
    "# Plug in different values of beauty\n",
    "predict(lm1, list(beauty=_____))"
   ],
   "metadata": {
    "id": "NLTt-FzArLxf",
    "pycharm": {
     "name": "#%%\n"
    }
   },
   "execution_count": null,
   "outputs": []
  },
  {
   "cell_type": "markdown",
   "source": [
    "Sometimes we want to know how confident we are in our predictions. For this, we can extend the predict function with a third argument. The `interval` argument can take \"prediction\" for prediction intervals for an individual response and \"confidence\" for confidence intervals for a mean response. Compare the two below. Which one is wider?"
   ],
   "metadata": {
    "id": "0_lZ-Kug5w4l",
    "pycharm": {
     "name": "#%% md\n"
    }
   }
  },
  {
   "cell_type": "code",
   "source": [
    "predict(lm1, list(beauty=0.5), interval=\"prediction\")"
   ],
   "metadata": {
    "id": "dAzE7njT5vRx",
    "pycharm": {
     "name": "#%%\n"
    }
   },
   "execution_count": null,
   "outputs": []
  },
  {
   "cell_type": "code",
   "source": [
    "predict(lm1, list(beauty=0.5), interval=\"confidence\")"
   ],
   "metadata": {
    "id": "epVGDF2N5p5U",
    "pycharm": {
     "name": "#%%\n"
    }
   },
   "execution_count": null,
   "outputs": []
  },
  {
   "cell_type": "markdown",
   "source": [
    "# Exploration\n",
    "Let's see the impact of sample size and error on our estimates"
   ],
   "metadata": {
    "id": "ITeppmpH8_Wb",
    "pycharm": {
     "name": "#%% md\n"
    }
   }
  },
  {
   "cell_type": "code",
   "source": [
    "explore_se(0.5) # change this number between 0 and 2"
   ],
   "metadata": {
    "id": "pF-fkFIw9-P7",
    "pycharm": {
     "name": "#%%\n"
    }
   },
   "execution_count": null,
   "outputs": []
  },
  {
   "cell_type": "code",
   "source": [],
   "metadata": {
    "id": "ujf2KF4i_-4R",
    "pycharm": {
     "name": "#%%\n"
    }
   },
   "execution_count": null,
   "outputs": []
  }
 ]
}