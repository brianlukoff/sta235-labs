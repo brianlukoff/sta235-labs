{
  "nbformat": 4,
  "nbformat_minor": 0,
  "metadata": {
    "colab": {
      "provenance": [],
      "authorship_tag": "ABX9TyPyzDhb1fKw1wKZfTjOPjZM",
      "include_colab_link": true
    },
    "kernelspec": {
      "name": "ir",
      "display_name": "R"
    },
    "language_info": {
      "name": "R"
    }
  },
  "cells": [
    {
      "cell_type": "markdown",
      "metadata": {
        "id": "view-in-github",
        "colab_type": "text"
      },
      "source": [
        "<a href=\"https://colab.research.google.com/github/brianlukoff/sta235-labs/blob/main/labs/03_categorical_variables.ipynb\" target=\"_parent\"><img src=\"https://colab.research.google.com/assets/colab-badge.svg\" alt=\"Open In Colab\"/></a>"
      ]
    },
    {
      "cell_type": "markdown",
      "source": [
        "# Using a categorical variable as a predictor\n",
        "\n",
        "In this lab you'll experiment with creating models with categorical variables and then interpreting the results.\n",
        "\n",
        "We'll continue using the student evaluation dataset from class. Start by loading the data:"
      ],
      "metadata": {
        "id": "RZRWazy_80uR"
      }
    },
    {
      "cell_type": "code",
      "execution_count": null,
      "metadata": {
        "id": "_O3A_yWp1Z9t"
      },
      "outputs": [],
      "source": [
        "load(url(\"https://github.com/brianlukoff/sta235-labs/raw/main/sta235.Rdata\"))\n",
        "head(profs)"
      ]
    },
    {
      "cell_type": "markdown",
      "source": [
        "Fill in the blanks below to build a model predicting student evaluation scores from tenure status. Add some code to examine the confidence intervals to determine if the difference between professors with and without tenure is statistically significant."
      ],
      "metadata": {
        "id": "05B__wqm-HVk"
      }
    },
    {
      "cell_type": "code",
      "source": [
        "model1 <- lm(____ ~ ____, data=profs)\n",
        "summary(model1)\n",
        "\n",
        "# Now some code to examine the confidence intervals\n"
      ],
      "metadata": {
        "id": "9tC-QcGt-bF4"
      },
      "execution_count": null,
      "outputs": []
    },
    {
      "cell_type": "markdown",
      "source": [
        "## Checkpoint\n",
        "\n",
        "What can you conclude from the model?\n",
        "\n",
        "A. Tenured professors generally get higher ratings, but the difference is not statistically significant.\n",
        "\n",
        "B. Tenured professors generally get higher ratings, and the difference is statistically significant.\n",
        "\n",
        "C. Professors without tenure generally get higher ratings, but the difference is not statistically significant.\n",
        "\n",
        "D. Professors without tenure generally get higher ratings, and the difference is statistically significant.\n",
        "\n",
        "E. There is no difference between the two.\n",
        "\n"
      ],
      "metadata": {
        "id": "99-yW8BnGo0v"
      }
    },
    {
      "cell_type": "markdown",
      "source": [
        "**D.** Professors with tenure are predicted to have an average evaluation score that is about 0.17 points less than professors without tenure. The confidence interval for `tenureyes` does not include 0 so the difference is statistically significant."
      ],
      "metadata": {
        "id": "-U0MKMbUIOr6"
      }
    },
    {
      "cell_type": "markdown",
      "source": [
        "**D.** Professors with tenure are predicted to have an average evaluation score that is about 0.17 points less than professors without tenure. The confidence interval for `tenureyes` does not include 0 so the difference is statistically significant."
      ],
      "metadata": {
        "id": "p_sOZuCgJ3tQ"
      }
    },
    {
      "cell_type": "markdown",
      "source": [
        "# Controlling for beauty\n",
        "\n",
        "You should see in your results that people wiWhat does this tell you about which types of instructors are more popular?\n",
        "\n",
        "Now adjust the right side of your formula to **control for beauty**; that is, add it as a second predictor so that you can suss out the effect of tenure on evaluations among people with the same beauty score:"
      ],
      "metadata": {
        "id": "cvMoYh0d-j2z"
      }
    },
    {
      "cell_type": "code",
      "source": [
        "model2 <- lm(____ ~ ____ + ____, data=profs)\n",
        "summary(model2)"
      ],
      "metadata": {
        "id": "SlKY3DoxCKuy"
      },
      "execution_count": null,
      "outputs": []
    },
    {
      "cell_type": "markdown",
      "source": [
        "Now create a plot to visualize the results. (Hint: Color the points by tenure status.)\n",
        "\n"
      ],
      "metadata": {
        "id": "ifezvHsPCNGk"
      }
    },
    {
      "cell_type": "code",
      "source": [
        "ggplot(aes(x=____, y=____, col=____), data=profs) +\n",
        "  geom_point() +                # Add the points\n",
        "  geom_parallel_slopes(se=F)    # Add a regression line for each color category\n"
      ],
      "metadata": {
        "id": "DPFgGDquEcaa"
      },
      "execution_count": null,
      "outputs": []
    },
    {
      "cell_type": "markdown",
      "source": [
        "## Checkpoint\n",
        "\n",
        "What can you conclude from Model 2?\n",
        "\n",
        "A. Among professors with the same beauty level, tenured professors generally get higher ratings, but the difference is not statistically significant.\n",
        "\n",
        "B. Among professors with the same beauty level, tenured professors generally get higher ratings, and the difference is statistically significant.\n",
        "\n",
        "C. Among professors with the same beauty level, professors without tenure generally get higher ratings, but the difference is not statistically significant.\n",
        "\n",
        "D. Among professors with the same beauty level, professors without tenure generally get higher ratings, and the difference is statistically significant.\n",
        "\n",
        "E. Among professors with the same beauty level, there is no significant difference between professors with and without tenure."
      ],
      "metadata": {
        "id": "G4FId0QPJ3tC"
      }
    },
    {
      "cell_type": "markdown",
      "source": [
        "**D.** Even after controlling for beauty, the difference is still about 0.17 points and statistically significant. This means that the difference between tenured- and non-tenured professors can't be \"explained away\" by someone who claims that the reason for the difference is that nontenured professors are more attractive than tenured professors (and as we have previously seen, better-looking professors get better evaluations)."
      ],
      "metadata": {
        "id": "vpqwpGsFKDBD"
      }
    },
    {
      "cell_type": "markdown",
      "source": [
        "# Categorical variables with 3+ categories\n",
        "\n",
        "Now let's see what the effect is of class size. Create Model 3 to examine the effect of class size on evaluation scores, among professors with the same attractiveness and tenure status."
      ],
      "metadata": {
        "id": "FbOMzaM8Ka_d"
      }
    },
    {
      "cell_type": "code",
      "source": [
        "model3 <- lm(____ ~ ____ + ____ + ____, data=profs)\n"
      ],
      "metadata": {
        "id": "hmoNs1NWLCR5"
      },
      "execution_count": null,
      "outputs": []
    },
    {
      "cell_type": "markdown",
      "source": [
        "Make sure you add the appropriate summary command to evaluate the output. Which category is the reference category?"
      ],
      "metadata": {
        "id": "bO5ut6ltLkeL"
      }
    },
    {
      "cell_type": "markdown",
      "source": [
        "## Checkpoint\n",
        "\n",
        "Among professors with the same attractiveness and tenure status, which class size is predicted to lead to the highest evaluation score?\n",
        "\n",
        "A. Small\n",
        "\n",
        "B. Medium\n",
        "\n",
        "C. Large"
      ],
      "metadata": {
        "id": "DSQOpyVJLGmG"
      }
    },
    {
      "cell_type": "markdown",
      "source": [
        "**A.** Because `classlarge` does not appear in the output, it was selected as the reference category, so all coefficients are relative to that category.\n",
        "\n",
        "For example, the coefficient of $0.069$ for `classsmall` indicates that, among professors of identical attractiveness and tenure status, those that teach small classes are predicted to have evaluation scores that are $0.069$ points higher than those that teach large classes. The `classmedium` coefficient is negative, so (all else equal) instructors of medium-sized classes are predicted to have *lower* scores than instructors of large-sized classes."
      ],
      "metadata": {
        "id": "w2QPYZKJLgx5"
      }
    },
    {
      "cell_type": "markdown",
      "source": [
        "## Checkpoint\n",
        "\n",
        "All else equal, we should expect the average evaluation score of professors of small-sized classes to be _____ than those for *medium-sized* classes.\n",
        "\n",
        "A. $0.07$ points higher\n",
        "\n",
        "B. $0.07$ points lower\n",
        "\n",
        "C. $0.14$ points higher\n",
        "\n",
        "D. $0.14$ points lower\n"
      ],
      "metadata": {
        "id": "goQR3b30MyzT"
      }
    },
    {
      "cell_type": "markdown",
      "source": [
        "**C.** Looking at the regression output, all else equal, small classes are expected to be $0.069$ points higher than large classes, and medium classes are expected to be about $0.073$ points lower than large classes. That means that we'd expect small classes to be about $0.069 + 0.073 = 0.142$ points higher than medium classes."
      ],
      "metadata": {
        "id": "jKvpRv6-Myzg"
      }
    }
  ]
}